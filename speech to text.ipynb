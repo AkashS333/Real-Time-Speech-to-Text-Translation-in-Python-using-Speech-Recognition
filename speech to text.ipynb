{
 "cells": [
  {
   "cell_type": "code",
   "execution_count": null,
   "metadata": {},
   "outputs": [],
   "source": [
    "pip install SpeechRecognition"
   ]
  },
  {
   "cell_type": "code",
   "execution_count": null,
   "metadata": {},
   "outputs": [],
   "source": [
    "pip install pyaudio"
   ]
  },
  {
   "cell_type": "code",
   "execution_count": null,
   "metadata": {},
   "outputs": [],
   "source": [
    "pip install googletrans==4.0.0-rc1"
   ]
  },
  {
   "cell_type": "code",
   "execution_count": 1,
   "metadata": {},
   "outputs": [
    {
     "name": "stdout",
     "output_type": "stream",
     "text": [
      "Speak something...\n",
      "You said: hi bro how are you\n",
      "Translated text (ta): ஹாய் ப்ரோ எப்படி இருக்கிறீர்கள்\n"
     ]
    }
   ],
   "source": [
    "import speech_recognition as sr\n",
    "from googletrans import Translator\n",
    "def speech_to_text():\n",
    "    recognizer = sr.Recognizer()\n",
    "\n",
    "    # Use the default microphone as the audio source\n",
    "    with sr.Microphone() as source:\n",
    "        print(\"Speak something...\")\n",
    "        recognizer.adjust_for_ambient_noise(source)\n",
    "        audio = recognizer.listen(source)\n",
    "        try:\n",
    "            # Convert speech to text using the Google Web Speech API\n",
    "            text = recognizer.recognize_google(audio)\n",
    "            print(\"You said:\", text)\n",
    "            return text\n",
    "        except sr.UnknownValueError:\n",
    "            print(\"Error: Unable to recognize speech.\")\n",
    "        except sr.RequestError as e:\n",
    "            print(f\"Error: {e}\")\n",
    "def translate_text(text, target_language='ta'):\n",
    "    translator = Translator()\n",
    "    translation = translator.translate(text, dest=target_language)\n",
    "\n",
    "    print(f\"Translated text ({target_language}): {translation.text}\")\n",
    "    return translation.text\n",
    "\n",
    "if __name__ == \"__main__\":\n",
    "    # Step 1: Convert speech to text\n",
    "    speech_text = speech_to_text()\n",
    "\n",
    "    # Step 2: Translate the text to the target language \n",
    "    translated_text = translate_text(speech_text)"
   ]
  }
 ],
 "metadata": {
  "kernelspec": {
   "display_name": "Python 3",
   "language": "python",
   "name": "python3"
  },
  "language_info": {
   "codemirror_mode": {
    "name": "ipython",
    "version": 3
   },
   "file_extension": ".py",
   "mimetype": "text/x-python",
   "name": "python",
   "nbconvert_exporter": "python",
   "pygments_lexer": "ipython3",
   "version": "3.10.9"
  },
  "orig_nbformat": 4
 },
 "nbformat": 4,
 "nbformat_minor": 2
}
